{
 "cells": [
  {
   "attachments": {},
   "cell_type": "markdown",
   "metadata": {},
   "source": [
    "# Le premier projet de ML"
   ]
  },
  {
   "attachments": {},
   "cell_type": "markdown",
   "metadata": {},
   "source": [
    "### Mettre en place l'environement\n",
    "- pip install -r requirements.txt"
   ]
  },
  {
   "attachments": {},
   "cell_type": "markdown",
   "metadata": {},
   "source": [
    "### Charger les données\n",
    "\n",
    "On va regarder les données sur les prix des maisons à Iowa, États-Unis. Chargez le dataset dans un dataframe `home_data` et vérifiez les données récupérées (taille, valeurs manquantes, nature des descripteurs, déséquilibre des classes, etc.) "
   ]
  },
  {
   "cell_type": "code",
   "execution_count": null,
   "metadata": {},
   "outputs": [],
   "source": [
    "import pandas as pd\n",
    "from helpers import tp1_1 as tp1\n",
    "# Chemin du fichier à lire\n",
    "iowa_file_path = 'data/iowa_data.csv'\n",
    "\n",
    "# Completer la ligne ci-dessous pour lire le fichier dans une variable home_data\n",
    "home_data = ...\n",
    "\n",
    "# # Execute la ligne ci-dessous pour vérifier que tu as bien chargé les données\n",
    "tp1.step1.check(home_data)\n",
    "# # Les lignes ci-dessous te permettent d'obtenir de l'aide si tu es bloqué\n",
    "tp1.step1.hint()\n",
    "tp1.step1.solution()"
   ]
  },
  {
   "attachments": {},
   "cell_type": "markdown",
   "metadata": {},
   "source": [
    "### Explorer les donnees (EDA) \n",
    "\n"
   ]
  },
  {
   "cell_type": "code",
   "execution_count": null,
   "metadata": {},
   "outputs": [],
   "source": [
    "# Affiche les statistiques des données\n",
    "print(home_data.shape) # Affiche le nombre de lignes et de colonnes\n",
    "print(home_data.dtypes) # Affiche le type de chaque colonne\n",
    "home_data.describe()"
   ]
  },
  {
   "attachments": {},
   "cell_type": "markdown",
   "metadata": {},
   "source": [
    "Les résultats affichent 8 chiffres pour chaque colonne de votre ensemble de données d'origine. Le premier nombre, le *count*, indique combien de lignes ont des valeurs non manquantes.\n",
    "\n",
    "Les valeurs manquantes surviennent pour de nombreuses raisons. Par exemple, la taille de la 2ème chambre ne serait pas collectée lors de l'arpentage d'une maison 1 chambre. Les données manquantes sont un problème courant et vous devez apprendre à les gérer.\n",
    "\n",
    "La deuxième valeur est le *mean*, qui est la moyenne. En dessous, *std* est l'écart type, qui mesure l'étalement numérique des valeurs.\n",
    "\n",
    "Pour interpréter les valeurs *min, 25%, 50%, 75% et max*, imaginez que vous triez chaque colonne de la valeur la plus faible à la plus élevée. La première (la plus petite) valeur est le min. Si vous parcourez un quart de la liste, vous trouverez un nombre supérieur à 25% des valeurs et inférieur à 75% des valeurs. C'est la valeur de 25%. Les 50e et 75e centiles sont définis de manière analogue, et le maximum est le plus grand nombre."
   ]
  },
  {
   "cell_type": "code",
   "execution_count": null,
   "metadata": {},
   "outputs": [],
   "source": [
    "# Quelle est la taille moyenne du terrain (arrondie à l'entier le plus proche)?\n",
    "avg_lot_size = ...\n",
    "\n",
    "# Quel est l'âge de la maison la plus récente (année actuelle - date de construction)\n",
    "newest_home_age = ...\n",
    "\n",
    "# Verifie tes résultats\n",
    "tp1.step2.check(avg_lot_size, newest_home_age)\n",
    "# Affiche de l'aide si tu es bloqué\n",
    "# tp1.step2.hint()\n",
    "# tp1.step2.solution()"
   ]
  },
  {
   "cell_type": "code",
   "execution_count": null,
   "metadata": {},
   "outputs": [],
   "source": [
    "# Supprime les lignes avec des valeurs manquantes dans la colonne SalePrice\n",
    "home_data.dropna(axis=0, subset=['SalePrice'], inplace=True)\n"
   ]
  },
  {
   "cell_type": "code",
   "execution_count": null,
   "metadata": {},
   "outputs": [],
   "source": [
    "# Visualise le histogramme de la colonne SalePrice\n",
    "import matplotlib.pyplot as plt\n",
    "plt.hist(home_data.SalePrice, bins=50) # bins = nombre de barres\n",
    "plt.show()"
   ]
  },
  {
   "attachments": {},
   "cell_type": "markdown",
   "metadata": {},
   "source": [
    "### Sélectionner la cible de prédiction et créer l'ensemble de données d'entrainement X\n",
    "\n"
   ]
  },
  {
   "cell_type": "code",
   "execution_count": null,
   "metadata": {},
   "outputs": [],
   "source": [
    "# Affiche la liste des colonnes pour trouver le nom de la variable cible\n",
    "home_data.columns"
   ]
  },
  {
   "cell_type": "code",
   "execution_count": null,
   "metadata": {},
   "outputs": [
    {
     "ename": "NameError",
     "evalue": "name 'tp1' is not defined",
     "output_type": "error",
     "traceback": [
      "\u001b[0;31m---------------------------------------------------------------------------\u001b[0m",
      "\u001b[0;31mNameError\u001b[0m                                 Traceback (most recent call last)",
      "Cell \u001b[0;32mIn[2], line 8\u001b[0m\n\u001b[1;32m      2\u001b[0m y \u001b[38;5;241m=\u001b[39m \u001b[38;5;241m.\u001b[39m\u001b[38;5;241m.\u001b[39m\u001b[38;5;241m.\u001b[39m\n\u001b[1;32m      4\u001b[0m \u001b[38;5;66;03m# # Vérifie tes résultats\u001b[39;00m\n\u001b[1;32m      5\u001b[0m \u001b[38;5;66;03m#tp1.step3.check(y)\u001b[39;00m\n\u001b[1;32m      6\u001b[0m \u001b[38;5;66;03m# # Ligne ci-dessous pour obtenir de l'aide si tu es bloqué\u001b[39;00m\n\u001b[1;32m      7\u001b[0m \u001b[38;5;66;03m# tp1.step3.hint()\u001b[39;00m\n\u001b[0;32m----> 8\u001b[0m \u001b[43mtp1\u001b[49m\u001b[38;5;241m.\u001b[39mstep3\u001b[38;5;241m.\u001b[39msolution()\n",
      "\u001b[0;31mNameError\u001b[0m: name 'tp1' is not defined"
     ]
    }
   ],
   "source": [
    "# Complète la ligne ci-dessous pour sélectionner la variable cible que tu veux prédire\n",
    "y = ...\n",
    "\n",
    "# # Vérifie tes résultats\n",
    "tp1.step3.check(y)\n",
    "# # Ligne ci-dessous pour obtenir de l'aide si tu es bloqué\n",
    "# tp1.step3.hint()\n",
    "# tp1.step3.solution()"
   ]
  },
  {
   "cell_type": "code",
   "execution_count": null,
   "metadata": {},
   "outputs": [],
   "source": [
    "# Crée la liste des variables prédictives (features). Modifiez si vous voulez utiliser une autre liste.\n",
    "feature_names = ['LotArea', 'YearBuilt', '1stFlrSF', '2ndFlrSF', 'FullBath', 'BedroomAbvGr', 'TotRmsAbvGrd']\n",
    "\n",
    "# Sellectionne les données correspondant aux variables prédictives\n",
    "X = home_data[...]\n",
    "\n",
    "# Vérifie tes résultats\n",
    "tp1.step4.check(X, feature_names)\n",
    "# # Lignes ci-dessous pour obtenir de l'aide si tu es bloqué\n",
    "# tp1.step4.hint()\n",
    "# tp1.step4.solution()"
   ]
  },
  {
   "attachments": {},
   "cell_type": "markdown",
   "metadata": {},
   "source": [
    "### Découper des jeux de données\n",
    "Utilisez la fonction train_test_split pour diviser vos données.\n",
    "Donnez-lui l'argument random_state=1 pour que les fonctions de vérification sachent à quoi s'attendre lors de la vérification de votre code.\n",
    "Rappelez-vous, vos fonctionnalités sont chargées dans le DataFrame X et votre cible est chargée dans y.\n"
   ]
  },
  {
   "cell_type": "code",
   "execution_count": null,
   "metadata": {},
   "outputs": [],
   "source": [
    "# Importer la fonction train_test_split \n",
    "from _ import _\n",
    "\n",
    "# Completer la ligne ci-dessous pour diviser les données en données d'entrainement et de validation\n",
    "train_X, val_X, train_y, val_y = train_test_split(..., random_state = 1)\n",
    "\n",
    "# Vérifie tes résultats\n",
    "tp1.step5.check(train_X, val_X, train_y, val_y)\n",
    "# Lignes ci-dessous pour obtenir de l'aide si tu es bloqué\n",
    "tp1.step5.hint()\n",
    "tp1.step5.solution()"
   ]
  },
  {
   "attachments": {},
   "cell_type": "markdown",
   "metadata": {},
   "source": [
    "### Spécifiez et entrainer (fitting) le modèle\n",
    "Créez un `LinearRegression` et enregistrez-le iowa_model. Assurez-vous d'avoir effectué l'importation appropriée depuis sklearn pour exécuter cette commande.\n",
    "\n",
    "Ensuite, ajustez le modèle que vous venez de créer en utilisant les données dans train_X, val_X, train_y, val_y que vous avez enregistrées ci-dessus."
   ]
  },
  {
   "cell_type": "code",
   "execution_count": null,
   "metadata": {},
   "outputs": [],
   "source": [
    "from _ import _\n",
    "\n",
    "# spécification du modèle, with different parameters\n",
    "iowa_model = LinearRegression() \n",
    "\n",
    "# Completer la ligne ci-dessous: Entraîne (fitting) le modèle avec les données d'entrainement \n",
    "iowa_model.fit(...)\n",
    "\n",
    "\n",
    "# Vérifie tes résultats\n",
    "tp1.step6.check(iowa_model)\n",
    "# # Lignes ci-dessous pour obtenir de l'aide si tu es bloqué\n",
    "# tp1.step6.hint()\n",
    "# tp1.step6.solution()\n"
   ]
  },
  {
   "attachments": {},
   "cell_type": "markdown",
   "metadata": {},
   "source": [
    "### Faites des prédictions avec les données de validation"
   ]
  },
  {
   "cell_type": "code",
   "execution_count": null,
   "metadata": {},
   "outputs": [],
   "source": [
    "# Completer la ligne ci-dessous: Predire les valeurs de la variable cible pour les données de validation\n",
    "val_predictions = iowa_model.predict(...)\n",
    "\n",
    "# Vérifie tes résultats\n",
    "tp1.step7.check(val_predictions)\n",
    "# # Lignes ci-dessous pour obtenir de l'aide si tu es bloqué\n",
    "# tp1.step7.hint()\n",
    "# tp1.step7.solution()"
   ]
  },
  {
   "cell_type": "code",
   "execution_count": null,
   "metadata": {},
   "outputs": [],
   "source": [
    "# Affiche les 5 premières prédictions\n",
    "print(val_predictions[:5])\n",
    "# Affiche les 5 premières valeurs de la variable cible pour les données de validation\n",
    "# # avec index\n",
    "# print(val_y[:5])\n",
    "# sans index\n",
    "print(val_y[:5].values)\n"
   ]
  },
  {
   "attachments": {},
   "cell_type": "markdown",
   "metadata": {},
   "source": [
    "### Calculer l'erreur absolue moyenne (mean_absolute_error) dans les données de validation"
   ]
  },
  {
   "cell_type": "code",
   "execution_count": null,
   "metadata": {},
   "outputs": [],
   "source": [
    "# importer la fonction mean_absolute_error\n",
    "from sklearn.metrics import mean_absolute_error\n",
    "\n",
    "# Complète la ligne ci-dessous pour calculer l'erreur absolue moyenne (MAE)\n",
    "val_mae = ...\n",
    "\n",
    "# decommente la ligne ci-dessous pour voir la valeur de l'erreur absolue moyenne\n",
    "# print(val_mae)\n",
    "\n",
    "# Ecrire votre propre fonction pour renvoyer l'erreur absolue moyenne\n",
    "def mae(y_true, y_pred):\n",
    "    ...\n",
    "\n",
    "val_mae_manuel = mae(val_y, val_predictions)\n",
    "print(val_mae_manuel)\n",
    "\n",
    "# Vérifie tes résultats\n",
    "tp1.step8.check(val_mae, val_mae_manuel)\n",
    "# # Lignes ci-dessous pour obtenir de l'aide si tu es bloqué\n",
    "# tp1.step8.hint()\n",
    "# tp1.step8.solution()\n",
    "\n",
    "# Vérifie tes résultats\n",
    "assert val_mae == val_mae_manuel, f\"Votre implementation de MAE donne un resultat different, la difference est {abs(val_mae-val_mae_manuel)}\"\n",
    "\n",
    "# Est-ce que c'est normal que l'on voit une différence entre les deux valeurs de MAE ?\n",
    "# Reponse : Oui, c'est normal car la difference est tres petite (10^-15) et est due a l'arrondi des nombres a virgule flottante.\n"
   ]
  },
  {
   "cell_type": "markdown",
   "metadata": {},
   "source": [
    "### Utilisation des fonctions pour avoir un programme plus lisible"
   ]
  },
  {
   "cell_type": "code",
   "execution_count": null,
   "metadata": {},
   "outputs": [],
   "source": [
    "\n",
    "# On va mettre nos codes dans des fonctions pour pouvoir les réutiliser plus tard\n",
    "# Fonction pour netttoyer les données\n",
    "def clean_data(data):\n",
    "    # Supprime les lignes avec des valeurs manquantes dans la colonne SalePrice\n",
    "    data.dropna(axis=0, subset=['SalePrice'], inplace=True)\n",
    "    return data\n",
    "\n",
    "# Fonction pour diviser les données en données d'entrainement et de validation\n",
    "def split_data(data, feature_names, target_name):\n",
    "    # Sélectionne la variable cible que tu veux prédire\n",
    "    y = data[target_name]\n",
    "    # Sélectionne les données correspondant aux variables prédictives\n",
    "    X = data[feature_names]\n",
    "    # Divise les données en données d'entrainement et de validation\n",
    "    train_X, val_X, train_y, val_y = train_test_split(X, y, random_state = 1)\n",
    "    return train_X, val_X, train_y, val_y\n",
    "\n",
    "# fonction pour entrainer le modèle et evaluer les performances\n",
    "def score_dataset(X_train, X_valid, y_train, y_valid):\n",
    "    model = LinearRegression()\n",
    "    model.fit(X_train, y_train)\n",
    "    preds = model.predict(X_valid)\n",
    "    return mean_absolute_error(y_valid, preds)\n"
   ]
  },
  {
   "cell_type": "code",
   "execution_count": null,
   "metadata": {},
   "outputs": [],
   "source": [
    "# on relance tous les etapes\n",
    "def run_experiment():\n",
    "    # Charger les données\n",
    "    iowa_file_path = 'data/iowa_data.csv'\n",
    "    home_data = pd.read_csv(iowa_file_path)\n",
    "    # Nettoyer les données\n",
    "    home_data = clean_data(home_data)\n",
    "    # Sélectionner les variables prédictives et la variable cible\n",
    "    feature_names = ['LotArea', 'YearBuilt', '1stFlrSF', '2ndFlrSF', 'FullBath', 'BedroomAbvGr', 'TotRmsAbvGrd']\n",
    "    target_name = 'SalePrice'\n",
    "    # Diviser les données en données d'entrainement et de validation\n",
    "    train_X, val_X, train_y, val_y = split_data(home_data, feature_names, target_name)\n",
    "    # Evaluer la performance du modèle\n",
    "    val_mae = score_dataset(train_X, val_X, train_y, val_y)\n",
    "    print(\"Error du modèle: \", val_mae)\n",
    "\n",
    "run_experiment()"
   ]
  },
  {
   "cell_type": "markdown",
   "metadata": {},
   "source": [
    "### Utiliser toutes les variables prédictives numériques qui contienent de valeurs manquantes \n",
    "- On remplace le code pour utiliser toutes les variables (linges 7-10) sans nettoyer de données avec home_data = clean_data(home_data)\n",
    "- On aura une erreur si on essaie de construire un modèle avec des valeurs manquantes."
   ]
  },
  {
   "cell_type": "code",
   "execution_count": null,
   "metadata": {},
   "outputs": [],
   "source": [
    "# on relance tous les etapes\n",
    "def run_experiment_on_data_with_missing_values():\n",
    "    # Charger les données\n",
    "    iowa_file_path = 'data/iowa_data.csv'\n",
    "    home_data = pd.read_csv(iowa_file_path)\n",
    "\n",
    "    ############## MODIFICATION : utiliser toutes les variables prédictives numériques ####################\n",
    "    predictors = home_data.drop(['SalePrice'], axis=1)\n",
    "    feature_names = predictors.columns[predictors.dtypes != 'object']\n",
    "    target_name = 'SalePrice'\n",
    "    ################################################################################\n",
    "\n",
    "    # Diviser les données en données d'entrainement et de validation\n",
    "    train_X, val_X, train_y, val_y = split_data(home_data, feature_names, target_name)\n",
    "    # Evaluer la performance du modèle\n",
    "    val_mae = score_dataset(train_X, val_X, train_y, val_y)\n",
    "    print(\"Error du modèle: \", val_mae)\n",
    "\n",
    "run_experiment_on_data_with_missing_values()"
   ]
  },
  {
   "cell_type": "markdown",
   "metadata": {},
   "source": [
    "### Imputation\n",
    "\n",
    "L'imputation remplit les valeurs manquantes avec un nombre. Par exemple, nous pouvons remplir la valeur moyenne le long de chaque colonne.\n",
    "\n",
    "Les valeurs imputées ne seront pas exactement correctes dans la plupart des cas, mais elles conduisent généralement à des modèles plus précis que ceux que vous obtiendriez en supprimant complètement la colonne.\n",
    "\n",
    "Utiliser le code suivant pour imputer les valeurs manquantes avec la valeur moyenne le long de chaque colonne. Définissez les DataFrames prétraités sur imputed_X_train et imputed_X_valid. Assurez-vous que les noms de colonnes correspondent à ceux de X_train et X_valid."
   ]
  },
  {
   "cell_type": "code",
   "execution_count": null,
   "metadata": {},
   "outputs": [],
   "source": [
    "# on relance tous les etapes\n",
    "def run_experiment_on_data_with_imputed_values():\n",
    "    # Charger les données\n",
    "    iowa_file_path = 'data/iowa_data.csv'\n",
    "    home_data = pd.read_csv(iowa_file_path)\n",
    "\n",
    "    ############## MODIFICATION : utiliser toutes les variables prédictives numériques ####################\n",
    "    predictors = home_data.drop(['SalePrice'], axis=1)\n",
    "    feature_names = predictors.columns[predictors.dtypes != 'object']\n",
    "    target_name = 'SalePrice'\n",
    "    ################################################################################\n",
    "\n",
    "    train_X, val_X, train_y, val_y = split_data(home_data, feature_names, target_name)\n",
    "\n",
    "    ############## MODIFICATION : imputer les values manquantes par la value moyenne ####################\n",
    "    # Remplacer les valeurs manquantes par la moyenne de la colonne\n",
    "    from sklearn.impute import SimpleImputer\n",
    "    # Imputation\n",
    "    my_imputer = SimpleImputer()\n",
    "    imputed_X_train = pd.DataFrame(my_imputer.fit_transform(train_X))\n",
    "    imputed_X_valid = pd.DataFrame(my_imputer.transform(val_X))\n",
    "    # l'imputation a supprimé les noms de colonnes; remets-les\n",
    "    imputed_X_train.columns = train_X.columns\n",
    "    imputed_X_valid.columns = val_X.columns\n",
    "    ################################################################################\n",
    "\n",
    "\n",
    "    # Evaluer la performance du modèle\n",
    "    val_mae = score_dataset(imputed_X_train, imputed_X_valid, train_y, val_y)\n",
    "    print(\"Error du modèle: \", val_mae)\n",
    "\n",
    "run_experiment_on_data_with_imputed_values()"
   ]
  }
 ],
 "metadata": {
  "kernelspec": {
   "display_name": "Python 3",
   "language": "python",
   "name": "python3"
  },
  "language_info": {
   "codemirror_mode": {
    "name": "ipython",
    "version": 3
   },
   "file_extension": ".py",
   "mimetype": "text/x-python",
   "name": "python",
   "nbconvert_exporter": "python",
   "pygments_lexer": "ipython3",
   "version": "3.12.3"
  },
  "orig_nbformat": 4
 },
 "nbformat": 4,
 "nbformat_minor": 2
}
