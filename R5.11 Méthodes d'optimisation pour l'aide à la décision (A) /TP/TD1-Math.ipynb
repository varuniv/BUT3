{
  "cells": [
    {
      "cell_type": "markdown",
      "metadata": {
        "colab_type": "text",
        "id": "view-in-github"
      },
      "source": [
        "<a href=\"https://colab.research.google.com/github/udlbook/udlbook/blob/main/Notebooks/Chap01/1_1_BackgroundMathematics.ipynb\" target=\"_parent\"><img src=\"https://colab.research.google.com/assets/colab-badge.svg\" alt=\"Open In Colab\"/></a>"
      ]
    },
    {
      "cell_type": "markdown",
      "metadata": {
        "id": "s5zzKSOusPOB"
      },
      "source": [
        "\n",
        "# **Mathématiques de fond**\n"
      ]
    },
    {
      "cell_type": "code",
      "execution_count": null,
      "metadata": {
        "id": "aUAjBbqzivMY"
      },
      "outputs": [],
      "source": [
        "# Imports math library\n",
        "import numpy as np\n",
        "# Imports plotting library\n",
        "import matplotlib.pyplot as plt"
      ]
    },
    {
      "cell_type": "markdown",
      "metadata": {
        "id": "WV2Dl6owme2d"
      },
      "source": [
        "**Fonctions linéaires**<br> <br> Nous utiliserons le terme équation linéaire pour désigner une somme pondérée des variables plus un décalage. S'il n'y a qu'une seule variable $x$ (un entrée), il s'agit alors d'une ligne droite.\n",
        "\n",
        "\\begin{equation}y=w_{0}+ w_{1} x,\\end{equation}\n",
        "\n",
        "où $w_{0}$ est l'ordonnée à l'origine de la droite linéaire et $w_{1}$ est la pente de la droite. <br><br> Lorsqu'il y a deux variables $x_{1}$ et $x_{2}$, cela devient alors :\n",
        "\n",
        "\\begin{equation}y=w_{0}+w_{1} x_1 + w_{2} x_2.\\end{equation}\n",
        "\n",
        "Par définition, toutes les autres fonctions sont **non-linéaires**\n",
        "\n",
        "\n"
      ]
    },
    {
      "cell_type": "code",
      "execution_count": null,
      "metadata": {
        "id": "WeFK4AvTotd8"
      },
      "outputs": [],
      "source": [
        "# Définir une fonction linéaire avec une seule variable, x.\n",
        "def linear_function_1D(x,w0,w1):\n",
        "  # TODO -- Remplacez la ligne de code ci-dessous par la formule pour une équation linéaire en 1D.\n",
        "  y = ...\n",
        "\n",
        "  return y"
      ]
    },
    {
      "cell_type": "markdown",
      "metadata": {},
      "source": [
        "### Dessiner une fonction linéaire"
      ]
    },
    {
      "cell_type": "code",
      "execution_count": null,
      "metadata": {
        "id": "eimhJ8_jpmEp"
      },
      "outputs": [],
      "source": [
        "\n",
        "\n",
        "# Définir un tableau de valeurs x de 0 à 10 avec des incréments de 0,01\n",
        "x = np.arange(0.0,10.0, 0.01)\n",
        "\n",
        "# Calculez y en utilisant la fonction que vous avez remplie ci-dessus\n",
        "w0 = 0.0; w1 = 2.0\n",
        "\n",
        "y = linear_function_1D(x,w0,w1)\n",
        "\n",
        "# Plot this function\n",
        "fig, ax = plt.subplots()\n",
        "ax.plot(x,y,'r-')\n",
        "ax.set_ylim([0,10]);ax.set_xlim([0,10])\n",
        "ax.set_xlabel('x'); ax.set_ylabel('y')\n",
        "plt.show()\n",
        "\n",
        "# TODO -- Expérimentez avec la modification des valeurs de w0 et w1\n",
        "# pour comprendre ce qu'ils font. Essayez de faire une ligne\n",
        "# qui traverse l'axe y à y = 10 et l'axe x à x = 5"
      ]
    },
    {
      "cell_type": "markdown",
      "metadata": {
        "id": "AedfvD9dxShZ"
      },
      "source": [
        "### Fonction linéaire 2D"
      ]
    },
    {
      "cell_type": "code",
      "execution_count": null,
      "metadata": {
        "id": "57Gvkk-Ir_7b"
      },
      "outputs": [],
      "source": [
        "# Code pour dessiner la fonction 2D - lisez-le pour que vous sachiez ce qui se passe, mais vous n'avez pas à le changer\n",
        "def draw_2D_function1(x1_mesh, x2_mesh, y):\n",
        "    \"\"\"\n",
        "    Fonction pour dessiner une fonction 2D en 3D.\n",
        "    \n",
        "    :param x1_mesh: Maillage des valeurs pour x1\n",
        "    :param x2_mesh: Maillage des valeurs pour x2\n",
        "    :param y: Valeurs de la fonction pour chaque point du maillage\n",
        "    \"\"\"\n",
        "    # Créer une figure et des axes 3D\n",
        "    fig = plt.figure()\n",
        "    ax = fig.add_subplot(111, projection='3d')\n",
        "\n",
        "    # Tracer la surface\n",
        "    ax.plot_surface(x1_mesh, x2_mesh, y, cmap='viridis')\n",
        "\n",
        "    # Ajouter des labels\n",
        "    ax.set_xlabel('x1')\n",
        "    ax.set_ylabel('x2')\n",
        "    ax.set_zlabel('y')\n",
        "\n",
        "    # Titre\n",
        "    ax.set_title('Visualisation de la fonction 2D en 3D')\n",
        "\n",
        "    # Afficher le graphique\n",
        "    plt.show()\n",
        "\n",
        "def draw_2D_function2(x1_mesh, x2_mesh, y):\n",
        "    \"\"\"\n",
        "    Fonction pour dessiner une fonction 2D en 3D.\n",
        "    \n",
        "    :param x1_mesh: Maillage des valeurs pour x1\n",
        "    :param x2_mesh: Maillage des valeurs pour x2\n",
        "    :param y: Valeurs de la fonction pour chaque point du maillage\n",
        "    \"\"\"\n",
        "    fig, ax = plt.subplots()\n",
        "    fig.set_size_inches(7,7)\n",
        "\n",
        "    pos = ax.contourf(x1_mesh, x2_mesh, y, levels=256 ,cmap = 'hot', vmin=-10,vmax=10.0)\n",
        "    \n",
        "    fig.colorbar(pos, ax=ax)\n",
        "    ax.set_xlabel('x1');ax.set_ylabel('x2')\n",
        "    levels = np.arange(-10,10,1.0)\n",
        "\n",
        "    ax.contour(x1_mesh, x2_mesh, y, levels, cmap='winter')\n",
        "    plt.show()"
      ]
    },
    {
      "cell_type": "code",
      "execution_count": null,
      "metadata": {
        "id": "YxeNhrXMzkZR"
      },
      "outputs": [],
      "source": [
        "# Définissez une fonction linéaire avec deux variables (2 entrées), x1 et x2\n",
        "def linear_function_2D(x1,x2,w0,w1,w2):\n",
        "  # TODO -- replace the code line below with formula for 2D linear equation\n",
        "  y = ...\n",
        "\n",
        "  return y"
      ]
    },
    {
      "cell_type": "code",
      "execution_count": null,
      "metadata": {
        "id": "rn_UBRDBysmR"
      },
      "outputs": [],
      "source": [
        "# Tracer la fonction 2D\n",
        "\n",
        "# Faire un tableau 2D de points x et y\n",
        "x1 = np.arange(0.0, 10.0, 0.1)\n",
        "x2 = np.arange(0.0, 10.0, 0.1)\n",
        "x1,x2 = np.meshgrid(x1,x2)  # https://www.geeksforgeeks.org/numpy-meshgrid-function/\n",
        "\n",
        "# Calculez la fonction 2D pour les valeurs données de {w0,w1,w2}\n",
        "w0 = -3.0; w1 = 4.0; w2 = 7\n",
        "y  = linear_function_2D(x1,x2,w0, w1, w2)\n",
        "\n",
        "# Dessinez la fonction.\n",
        "draw_2D_function1(x1,x2,y)\n"
      ]
    },
    {
      "cell_type": "code",
      "execution_count": null,
      "metadata": {},
      "outputs": [],
      "source": [
        "# Dessinez la fonction.\n",
        "# La couleur représente la valeur y (plus lumineuse = valeur supérieure)\n",
        "# Noir = -10 ou moins, blanc = +10 ou plus\n",
        "# 0 = Mid Orange\n",
        "# Les lignes sont des contours où la valeur est égale\n",
        "# Une ligne de contour est l’ensemble de tous les points (𝑥1,𝑥2) qui donnent la même valeur de sortie 𝑦.\n",
        "draw_2D_function2(x1,x2,y)"
      ]
    },
    {
      "cell_type": "code",
      "execution_count": null,
      "metadata": {},
      "outputs": [],
      "source": [
        "# TODO\n",
        "# Prédire à quoi ressemblera ce tracé si vous définissez w1 sur zéro\n",
        "# Modifiez le code et voyez si vous avez raison.\n",
        "w0 = ...; w1 = ...; w2 = ...\n",
        "y = ...\n",
        "draw_2D_function2(x1,x2,y)\n",
        "\n",
        "# TODO\n",
        "# Prédire à quoi ressemblera ce tracé si vous définissez w2 sur zéro\n",
        "# Modifiez le code et voyez si vous avez raison.\n"
      ]
    },
    {
      "cell_type": "markdown",
      "metadata": {
        "id": "i8tLwpls476R"
      },
      "source": [
        "Souvent, nous voulons calculer de nombreuses fonctions linéaires en même temps. Par exemple, nous pourrions avoir trois variables, $ x_1 $, $ x_2 $ et $ x_3 $ et vouloir calculer deux fonctions linéaires donnant $ y_1 $ et $ y_2 $. Bien sûr, nous pourrions le faire en exécutant simplement chaque équation séparément, <br> <br>\n",
        "\n",
        "\\begin{align}y_1 &=& w_{10} + w_{11} x_1 + w_{12} x_2 + w_{13} x_3\\\\\n",
        "y_2 &=& w_{20} + w_{21} x_1 +w_{22} x_2 + w_{23} x_3.\n",
        "\\end{align}\n",
        "\n",
        "Cependant, nous pouvons l'écrire de manière plus compacte avec des vecteurs et des matrices:\n",
        "\n",
        "\\begin{equation}\n",
        "\\begin{bmatrix} y_1\\\\ y_2 \\end{bmatrix} = \\begin{bmatrix}w_{10}\\\\w_{20}\\end{bmatrix}+ \\begin{bmatrix}w_{11}&w_{12}&w_{13}\\\\w_{21}&w_{22}&w_{23}\\end{bmatrix}\\begin{bmatrix}x_{1}\\\\x_{2}\\\\x_{3}\\end{bmatrix},\n",
        "\\end{equation}\n",
        "\n",
        "Normalement, on ajoute un entree speciale x_0 qui sont toujours 1 pour avoir les equations plus compact suivantes :\n",
        "\n",
        "\\begin{align}y_1 &=& w_{10} x_0 + w_{11} x_1 + w_{12} x_2 + w_{13} x_3\\\\\n",
        "y_2 &=& w_{20} x_0 + w_{21} x_1 +w_{22} x_2 + w_{23} x_3.\n",
        "\\end{align}\n",
        "\n",
        "\n",
        "\\begin{equation}\n",
        "\\begin{bmatrix} y_1\\\\ y_2 \\end{bmatrix} = \\begin{bmatrix}w_{10}&w_{11}&w_{12}&w_{13}\\\\w_{20}&w_{21}&w_{22}&w_{23}\\end{bmatrix}\\begin{bmatrix}x_{1}\\\\x_{2}\\\\x_{3}\\end{bmatrix},\n",
        "\\end{equation}\n",
        "\n",
        "\n",
        "ou\n",
        "\n",
        "\\begin{equation}\n",
        "\\mathbf{y} = \\boldsymbol W^T \\mathbf{x}.\n",
        "\\end{equation}\n",
        "\n",
        "pour court. Ici, les symboles en gras minuscules sont utilisés pour les vecteurs. Les symboles en gras supérieurs sont utilisés pour les matrices.\n",
        "\n"
      ]
    },
    {
      "cell_type": "code",
      "execution_count": null,
      "metadata": {
        "id": "MjHXMavh9IUz"
      },
      "outputs": [],
      "source": [
        "# Définissez une fonction linéaire avec trois entrées, x1, x2, et x_3\n",
        "def linear_function_3D(x1,x2,x3,w0,w1,w2,w3):\n",
        "  # TODO - Remplacez le code ci-dessous par une formule pour une seule équation linéaire 3D\n",
        "  y = ...\n",
        "\n",
        "  return y"
      ]
    },
    {
      "cell_type": "markdown",
      "metadata": {
        "id": "fGzVJQ6N-mHJ"
      },
      "source": [
        "Calculons deux équations linéaires, en utilisant à la fois les équations individuelles et la forme vectorielle/matrice et vérifions qu'elles donnent le même résultat"
      ]
    },
    {
      "cell_type": "code",
      "execution_count": null,
      "metadata": {
        "id": "Swd_bFIE9p2n"
      },
      "outputs": [],
      "source": [
        "# Definir les parametres\n",
        "w0 = 0.5\n",
        "w1 =  -1.0 ; w2 = 0.4; w3 = -0.3\n",
        "\n",
        "# Definir 2 point 3D entrees\n",
        "x1_1 = 4 ; x2_1 =-1; x3_1 = 2\n",
        "x1_2 = -2 ; x2_2 =-3; x3_2 = 0.5\n",
        "\n",
        "# Calculer en utilisant les équations individuelles\n",
        "y1 = linear_function_3D(x1_1,x2_1,x3_1,w0,w1,w2,w3)\n",
        "y2 = linear_function_3D(x1_2,x2_2,x3_2,w0,w1,w2,w3)\n",
        "print(\"Equations individuelles\")\n",
        "print('y1 = %3.3f\\ny2 = %3.3f'%((y1,y2)))\n",
        "\n",
        "# Définir le vecteur de poids pour la fonction\n",
        "w_vec = np.array([w0, w1, w2, w3])\n",
        "\n",
        "# Définir la matrice d'entrée où chaque colonne est un point de données\n",
        "# Pour deux points de données 3D (x1_1, x2_1, x3_1) et (x1_2, x2_2, x3_2)\n",
        "X_mat = np.array([\n",
        "    ..., # TODO: ajouter les valeurs x0 (terme de biais) pour les deux points de données\n",
        "    [x1_1, x1_2], # x1 pour les deux points de données\n",
        "    [x2_1, x2_2], # x2 pour les deux points de données\n",
        "    [x3_1, x3_2]  # x3 pour les deux points de données\n",
        "])\n",
        "\n",
        "# Effectuer la multiplication matricielle pour calculer les sorties pour les deux points de données\n",
        "y_vec = np.matmul(w_vec.T, X_mat)\n",
        "print(y_vec.shape)\n",
        "print(\"Matrix/vector form\")\n",
        "print('y1= %3.3f\\ny2 = %3.3f'%((y_vec[0],y_vec[1])))\n"
      ]
    },
    {
      "cell_type": "markdown",
      "metadata": {
        "id": "3LGRoTMLU8ZU"
      },
      "source": [
        "# Questions\n",
        "\n",
        "Une équation linéaire unique avec trois entrées (c’est-à-dire **linear_function_3D()**) associe une valeur \\(y\\) à chaque point dans un espace 3D (\\(x_1\\), \\(x_2\\), \\(x_3\\)). Est-il possible de visualiser cela ? Quelle est la valeur en position (0, 0, 0) ?"
      ]
    },
    {
      "cell_type": "markdown",
      "metadata": {
        "id": "7Y5zdKtKZAB2"
      },
      "source": [
        "# Functions sépeciales\n",
        "\n",
        "Dans l'apprentissage automatique, nous utiliserons certaines fonctions spéciales. Les plus importantes d’entre elles sont les fonctions logarithme et exponentielle. Explorons leurs propriétés.\n",
        "\n",
        "Nous commencerons par la fonction exponentielle $y = \\exp[x] = e^x$, qui associe la ligne réelle $[- \\infty, +\\infty]$ aux nombres non négatifs $[0, +\\infty]$.\n"
      ]
    },
    {
      "cell_type": "code",
      "execution_count": null,
      "metadata": {
        "id": "c_GkjiY9IWCu"
      },
      "outputs": [],
      "source": [
        "# Dessiner la fonction exponential \n",
        "\n",
        "# Définir un tableau de valeurs x de -5 à 5 avec des incréments de 0,01\n",
        "x = np.arange(-5.0,5.0, 0.01)\n",
        "y = np.exp(x) ;\n",
        "\n",
        "# Dessiner\n",
        "fig, ax = plt.subplots()\n",
        "ax.plot(x,y,'r-')\n",
        "ax.set_ylim([0,100]);ax.set_xlim([-5,5])\n",
        "ax.set_xlabel('x'); ax.set_ylabel('exp[x]')\n",
        "plt.show()"
      ]
    },
    {
      "cell_type": "markdown",
      "metadata": {
        "id": "XyrT8257IWCu"
      },
      "source": [
        "# Questions\n",
        "\n",
        "1. Quelle est $\\exp[0]$?  \n",
        "2. Quelle est $\\exp[1]$?\n",
        "3. Quelle est $\\exp[-\\infty]$?\n",
        "4. Quelle est $\\exp[+\\infty]$?\n",
        "<!-- 5. Une fonction est convexe si, pour tous les points de la fonction, la ligne droite tracée entre ces deux points se situe au-dessus de la fonction en tout point entre ces deux points. De même, une fonction est concave si la ligne droite tracée entre tous les points de la fonction se situe en dessous de la fonction en tout point entre ces deux points. La fonction exponentielle est-elle convexe, concave, ou ni l'un ni l'autre ? -->\n"
      ]
    },
    {
      "cell_type": "markdown",
      "metadata": {
        "id": "R6A4e5IxIWCu"
      },
      "source": [
        "\n",
        "\n",
        "Maintenant, considérons la fonction logarithme $y = \\log[x]$. Nous utilisons les logarithmes naturels (base $e$). La fonction logarithme associe les nombres non négatifs $[0, \\infty]$ aux nombres réels $[-\\infty, \\infty]$. C’est l’inverse de la fonction exponentielle. Ainsi, lorsque nous calculons $\\log[x]$, nous cherchons en réalité \"Quel est le nombre $y$ tel que $e^y = x$ ?\""
      ]
    },
    {
      "cell_type": "code",
      "execution_count": null,
      "metadata": {
        "id": "fOR7v2iXIWCu"
      },
      "outputs": [],
      "source": [
        "# Dessiner la fonction logarithm \n",
        "\n",
        "# Définir un tableau de valeurs x de -5 à 5 avec des incréments de 0,01\n",
        "x = np.arange(0.01,5.0, 0.01)\n",
        "y = np.log(x) ;\n",
        "\n",
        "# Dessiner la fonction\n",
        "fig, ax = plt.subplots()\n",
        "ax.plot(x,y,'r-')\n",
        "ax.set_ylim([-5,5]);ax.set_xlim([0,5])\n",
        "ax.set_xlabel('x'); ax.set_ylabel('$\\log[x]$')\n",
        "plt.show()"
      ]
    },
    {
      "cell_type": "markdown",
      "metadata": {
        "id": "yYWrL5AXIWCv"
      },
      "source": [
        "# Questions\n",
        "\n",
        "1. Quelle est $\\log[0]$?  \n",
        "2. Quelle est  $\\log[1]$?\n",
        "3. Quelle est  $\\log[e]$?\n",
        "4. Quelle est  $\\log[\\exp[3]]$?\n",
        "5. Quelle est  $\\exp[\\log[4]]$?\n",
        "6. Quelle est  $\\log[-1]$?\n",
        "<!-- 7. La fonction logarithme est-elle concave ou convexe ? -->\n"
      ]
    },
    {
      "cell_type": "markdown",
      "metadata": {},
      "source": []
    }
  ],
  "metadata": {
    "colab": {
      "include_colab_link": true,
      "provenance": []
    },
    "kernelspec": {
      "display_name": "Python 3 (ipykernel)",
      "language": "python",
      "name": "python3"
    },
    "language_info": {
      "codemirror_mode": {
        "name": "ipython",
        "version": 3
      },
      "file_extension": ".py",
      "mimetype": "text/x-python",
      "name": "python",
      "nbconvert_exporter": "python",
      "pygments_lexer": "ipython3",
      "version": "3.10.11"
    }
  },
  "nbformat": 4,
  "nbformat_minor": 0
}
