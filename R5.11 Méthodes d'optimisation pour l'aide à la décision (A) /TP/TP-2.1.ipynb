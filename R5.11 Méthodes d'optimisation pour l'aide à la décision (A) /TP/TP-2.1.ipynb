{
 "cells": [
  {
   "cell_type": "markdown",
   "metadata": {},
   "source": [
    "# TP NumPy : Opérations sur les Matrices, Vecteurs et Normes\n",
    "\n",
    "## Introduction\n",
    "Ce TP vous permettra de manipuler des matrices et des vecteurs avec NumPy, d'effectuer des opérations arithmétiques, et de calculer diverses normes. Vous allez découvrir comment calculer des normes pour les vecteurs et les matrices et appliquer ces concepts.\n",
    "\n",
    "**Objectifs** :\n",
    "1. Créer et manipuler des vecteurs et des matrices.\n",
    "2. Comprendre et calculer des normes L1, L2.\n",
    "3. Appliquer des opérations arithmétiques sur des matrices et des vecteurs.\n"
   ]
  },
  {
   "cell_type": "code",
   "execution_count": 1,
   "metadata": {},
   "outputs": [],
   "source": [
    "# Importation de NumPy\n",
    "import numpy as np\n"
   ]
  },
  {
   "cell_type": "markdown",
   "metadata": {},
   "source": [
    "## 1 : Création de Vecteurs et Matrices\n",
    "\n",
    "1. Créez un vecteur de 5 éléments avec des valeurs de votre choix.\n",
    "2. Créez une matrice 3x3 avec des valeurs de votre choix.\n",
    "3. Créez un vecteur rempli de zéros de taille 4.\n",
    "4. Créez une matrice 4x5 remplie de uns.\n",
    "\n",
    "Complétez les cellules suivantes :\n"
   ]
  },
  {
   "cell_type": "code",
   "execution_count": null,
   "metadata": {},
   "outputs": [],
   "source": [
    "# Exercice 1.1 : Créez un vecteur de 5 éléments\n",
    "# Remplissez le vecteur `v` avec vos valeurs\n",
    "v = np.array([])  # Remplacez le tableau vide par vos valeurs\n",
    "print(\"Vecteur v :\", v)\n",
    "\n",
    "# Exercice 1.2 : Créez une matrice 3x3\n",
    "# Remplissez la matrice `M` avec vos valeurs\n",
    "M = np.array([[]])  # Remplacez le tableau vide par vos valeurs\n",
    "print(\"Matrice M :\\n\", M)\n",
    "\n",
    "# Exercice 1.3 : Créez un vecteur de zéros de taille 4\n",
    "# Complétez la fonction suivante\n",
    "z = np.zeros()\n",
    "print(\"Vecteur de zéros :\", z)\n",
    "\n",
    "# Exercice 1.4 : Créez une matrice de uns de taille 4x5\n",
    "# Complétez la fonction suivante\n",
    "O = np.ones()\n",
    "print(\"Matrice de uns :\\n\", O)\n"
   ]
  },
  {
   "cell_type": "markdown",
   "metadata": {},
   "source": [
    "## 2 : Accès et Modification des Éléments\n",
    "\n",
    "1. Accédez au troisième élément du vecteur `v` que vous avez créé dans la première partie.\n",
    "2. Modifiez la valeur de la première ligne et deuxième colonne de la matrice `M` avec la valeur 100.\n",
    "\n",
    "Complétez les cellules suivantes :\n",
    "\n"
   ]
  },
  {
   "cell_type": "code",
   "execution_count": null,
   "metadata": {},
   "outputs": [],
   "source": [
    "# Exercice 2.1 : Accédez au troisième élément de v\n",
    "# Utilisez l'indexation pour accéder à l'élément\n",
    "troisieme_element = v[ ]  # Complétez ici\n",
    "print(\"Troisième élément de v :\", troisieme_element)\n",
    "\n",
    "# Exercice 2.2 : Modifiez un élément de la matrice M\n",
    "# Modifiez l'élément à la première ligne, deuxième colonne\n",
    "M[ ] = 100  # Complétez ici\n",
    "print(\"Matrice M après modification :\\n\", M)\n"
   ]
  },
  {
   "cell_type": "markdown",
   "metadata": {},
   "source": [
    "## 3 : Calcul des Normes\n",
    "\n",
    "1. Quelle est la norme L2 (Euclidienne) d'un vecteur ?\n",
    "2. Quelle est la différence entre la norme L1 et L2 ?\n",
    "\n",
    "### Exercices pratiques\n",
    "\n",
    "- Calculez la norme Euclidienne (L2) du vecteur `v`.\n",
    "- Calculez la norme L1 du vecteur `v`.\n"
   ]
  },
  {
   "cell_type": "code",
   "execution_count": null,
   "metadata": {},
   "outputs": [],
   "source": [
    "# Exercice 3.1 : Calculez la norme L2 (Euclidienne) du vecteur v\n",
    "# Complétez la fonction ci-dessous\n",
    "norm_v_l2 = np.linalg.norm()\n",
    "print(\"Norme Euclidienne (L2) de v :\", norm_v_l2)\n",
    "\n",
    "# Exercice 3.2 : Calculez la norme L1 du vecteur v\n",
    "# Complétez la fonction ci-dessous\n",
    "norm_v_l1 = np.linalg.norm(v, ord=)\n",
    "print(\"Norme L1 de v :\", norm_v_l1)\n"
   ]
  },
  {
   "cell_type": "markdown",
   "metadata": {},
   "source": [
    "### Découpage des Tableaux\n",
    "Apprenons à découper (slice) les tableaux pour obtenir des sous-ensembles.\n"
   ]
  },
  {
   "cell_type": "code",
   "execution_count": null,
   "metadata": {},
   "outputs": [],
   "source": [
    "# Slicing (Découpage) des tableaux\n",
    "print(\"\\nSlicing de v [1:4] :\", v[1:4])\n",
    "print(\"Slicing de M [:2, 1:3] :\\n\", M[:2, 1:3])\n"
   ]
  },
  {
   "cell_type": "markdown",
   "metadata": {},
   "source": [
    "## 4 : Opérations Arithmétiques\n",
    "\n",
    "1. Ajoutez deux vecteurs de taille 3, puis soustrayez-les.\n",
    "2. Effectuez une multiplication matricielle entre deux matrices 2x2.\n",
    "3. Calculez la transposition de la matrice `A` que vous avez créée dans l'exercice précédent.\n",
    "\n",
    "Complétez les cellules suivantes :\n"
   ]
  },
  {
   "cell_type": "code",
   "execution_count": null,
   "metadata": {},
   "outputs": [],
   "source": [
    "# Exercice 4.1 : Ajoutez et soustrayez deux vecteurs de taille 3\n",
    "A = np.array([1, 2, 3])\n",
    "B = np.array([4, 5, 6])\n",
    "addition =    # Complétez ici\n",
    "soustraction =    # Complétez ici\n",
    "print(\"Addition de A et B :\", addition)\n",
    "print(\"Soustraction de A et B :\", soustraction)\n",
    "\n",
    "# Exercice 4.2 : Multiplication matricielle entre deux matrices 2x2\n",
    "C = np.array([[1, 2], [3, 4]])\n",
    "D = np.array([[5, 6], [7, 8]])\n",
    "multiplication_matrices =    # Complétez ici\n",
    "print(\"Multiplication matricielle C @ D :\\n\", multiplication_matrices)\n",
    "\n",
    "# Exercice 4.3 : Calculez la transposition de la matrice A\n",
    "transpose_A =    # Complétez ici\n",
    "print(\"Transposition de A :\\n\", transpose_A)\n"
   ]
  },
  {
   "cell_type": "markdown",
   "metadata": {},
   "source": [
    "### Opérations Statistiques\n",
    "Apprenons à effectuer des opérations statistiques sur les tableaux, comme le calcul de la moyenne et de l'écart-type.\n"
   ]
  },
  {
   "cell_type": "code",
   "execution_count": null,
   "metadata": {},
   "outputs": [],
   "source": [
    "# Opérations statistiques\n",
    "print(\"\\nMoyenne de C :\", np.mean(C))\n",
    "print(\"Écart-type de C :\", np.std(C))\n"
   ]
  },
  {
   "cell_type": "code",
   "execution_count": null,
   "metadata": {},
   "outputs": [],
   "source": []
  }
 ],
 "metadata": {
  "kernelspec": {
   "display_name": "Python 3",
   "language": "python",
   "name": "python3"
  },
  "language_info": {
   "codemirror_mode": {
    "name": "ipython",
    "version": 3
   },
   "file_extension": ".py",
   "mimetype": "text/x-python",
   "name": "python",
   "nbconvert_exporter": "python",
   "pygments_lexer": "ipython3",
   "version": "3.12.3"
  }
 },
 "nbformat": 4,
 "nbformat_minor": 2
}
