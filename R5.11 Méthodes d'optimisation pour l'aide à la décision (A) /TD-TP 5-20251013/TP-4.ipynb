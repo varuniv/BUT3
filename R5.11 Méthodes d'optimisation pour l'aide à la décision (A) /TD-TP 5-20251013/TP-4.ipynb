{
 "cells": [
  {
   "cell_type": "code",
   "execution_count": 8,
   "metadata": {},
   "outputs": [
    {
     "name": "stdout",
     "output_type": "stream",
     "text": [
      "Output of the forward pass: (array([0.26894142, 0.73105858]), array([1, 0]), array([ 1, -1]))\n",
      "Output after forward pass: [0.26894142 0.73105858]\n"
     ]
    }
   ],
   "source": [
    "import numpy as np\n",
    "\n",
    "# Define the activation functions\n",
    "def sigma_1(u):\n",
    "    return np.maximum(0, u)  # ReLU\n",
    "\n",
    "def sigma_2(u):\n",
    "    exp_u = np.exp(u - np.max(u))  # Subtract max for numerical stability\n",
    "    return exp_u / np.sum(exp_u)    # Softmax\n",
    "\n",
    "def forward_pass(x, W1, W2):\n",
    "    # First layer \n",
    "    u1 = np.dot(W1, x)  # Linear\n",
    "    u2 = sigma_1(u1)    # ReLU\n",
    "\n",
    "    # Second layer \n",
    "    u3 = np.dot(W2, u2)  # Linear \n",
    "    h = sigma_2(u3)      # softmax \n",
    "    \n",
    "    return h, u2, u1 \n",
    "\n",
    "x = np.array([1, 1]) \n",
    "W1 = np.array([[0, 1], [0, -1]])  \n",
    "W2 = np.array([[1, 2], [2, -1]])  \n",
    "\n",
    "output = forward_pass(x, W1, W2)\n",
    "print(\"Output of the forward pass:\", output)\n",
    "\n",
    "x = np.array([1, 1]) \n",
    "y = np.array([1, 0])  \n",
    "W1 = np.array([[0.0, 1.0], [0.0, -1.0]])  \n",
    "W2 = np.array([[1.0, 2.0], [2.0, -1.0]])  \n",
    "eta = 0.01  # Learning rate\n",
    "\n",
    "output, u2, u1 = forward_pass(x, W1, W2)\n",
    "print(\"Output after forward pass:\", output)"
   ]
  },
  {
   "cell_type": "code",
   "execution_count": null,
   "metadata": {},
   "outputs": [],
   "source": []
  }
 ],
 "metadata": {
  "kernelspec": {
   "display_name": "Python 3",
   "language": "python",
   "name": "python3"
  },
  "language_info": {
   "codemirror_mode": {
    "name": "ipython",
    "version": 3
   },
   "file_extension": ".py",
   "mimetype": "text/x-python",
   "name": "python",
   "nbconvert_exporter": "python",
   "pygments_lexer": "ipython3",
   "version": "3.9.2"
  }
 },
 "nbformat": 4,
 "nbformat_minor": 2
}
